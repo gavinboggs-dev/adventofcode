{
 "cells": [
  {
   "cell_type": "code",
   "execution_count": 5,
   "metadata": {},
   "outputs": [],
   "source": [
    "with open('input.txt') as f:\n",
    "    lines = f.read().splitlines()\n",
    "\n",
    "inputs = []\n",
    "outputs = []\n",
    "all_outputs = []\n",
    "for l in lines:\n",
    "    i, o = l.split(' | ')\n",
    "    inputs.append(i.split(' '))\n",
    "    outputs.append(o.split(' '))\n",
    "    all_outputs.extend(o.split(' '))"
   ]
  },
  {
   "cell_type": "code",
   "execution_count": 6,
   "metadata": {},
   "outputs": [
    {
     "name": "stdout",
     "output_type": "stream",
     "text": [
      "383\n"
     ]
    }
   ],
   "source": [
    "count = 0\n",
    "for o in all_outputs:\n",
    "    if len(o) in [2, 4, 3, 7]:\n",
    "        count = count + 1\n",
    "print(count)"
   ]
  },
  {
   "cell_type": "code",
   "execution_count": 46,
   "metadata": {},
   "outputs": [
    {
     "name": "stdout",
     "output_type": "stream",
     "text": [
      "998900\n"
     ]
    }
   ],
   "source": [
    "out_vals = []\n",
    "for ins, outs in zip(inputs, outputs):\n",
    "    number_map = {}\n",
    "    for i in sorted(ins, key=len):\n",
    "        i = ''.join(sorted(i))\n",
    "        l = len(i)\n",
    "        if l == 2:\n",
    "            p1 = set(i)\n",
    "            number_map[i] = 1\n",
    "        elif l == 3:\n",
    "            number_map[i] = 7\n",
    "        elif l == 4:\n",
    "            p4 = set(i) - p1\n",
    "            number_map[i] = 4\n",
    "        elif l == 5:\n",
    "            # 2, 3, or 5\n",
    "            if p4.issubset(i):\n",
    "                number_map[i] = 5\n",
    "            elif p1.issubset(i):\n",
    "                number_map[i] = 3\n",
    "            else:  # 2\n",
    "                number_map[i] = 2\n",
    "        elif l == 6:\n",
    "            # 0, 6, or 9\n",
    "            if not p4.issubset(i):\n",
    "                number_map[i] = 0\n",
    "            elif p1.issubset(i):\n",
    "                number_map[i] = 9\n",
    "            else:\n",
    "                number_map[i] = 6\n",
    "        elif l == 7:\n",
    "            number_map[i] = 8\n",
    "    out_arr = [number_map[''.join(sorted(o))] for o in outs]\n",
    "    out_vals.append(int(''.join(map(str, out_arr))))\n",
    "print(sum(out_vals))"
   ]
  }
 ],
 "metadata": {
  "interpreter": {
   "hash": "aee8b7b246df8f9039afb4144a1f6fd8d2ca17a180786b69acc140d282b71a49"
  },
  "kernelspec": {
   "display_name": "Python 3.9.4 64-bit",
   "language": "python",
   "name": "python3"
  },
  "language_info": {
   "codemirror_mode": {
    "name": "ipython",
    "version": 3
   },
   "file_extension": ".py",
   "mimetype": "text/x-python",
   "name": "python",
   "nbconvert_exporter": "python",
   "pygments_lexer": "ipython3",
   "version": "3.9.4"
  },
  "orig_nbformat": 4
 },
 "nbformat": 4,
 "nbformat_minor": 2
}
